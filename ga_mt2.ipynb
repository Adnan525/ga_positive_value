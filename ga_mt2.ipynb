{
 "cells": [
  {
   "cell_type": "code",
   "execution_count": 17,
   "id": "2679f4f0-4d5b-431e-aa79-08c87768563d",
   "metadata": {},
   "outputs": [],
   "source": [
    "import random"
   ]
  },
  {
   "cell_type": "code",
   "execution_count": 18,
   "id": "27c75497-fac9-4913-8636-46cb7604e415",
   "metadata": {},
   "outputs": [],
   "source": [
    "def equation(w1, w2, w3, x1 = 4, x2 = -2, x3 = 7):\n",
    "    return w1 * x1 + w2 * x2 + w3 * x3"
   ]
  },
  {
   "cell_type": "code",
   "execution_count": 19,
   "id": "adf6e76f-7c78-4b0a-b19b-76f618a48d2d",
   "metadata": {},
   "outputs": [],
   "source": [
    "def fitness(w1, w2, w3):\n",
    "    return equation(w1, w2, w3)"
   ]
  },
  {
   "cell_type": "code",
   "execution_count": 29,
   "id": "f4a83c45-253b-467d-8c9f-c0e143239ec3",
   "metadata": {},
   "outputs": [],
   "source": [
    "population_size = 50\n",
    "num_generations = 100\n",
    "mutation_rate = 0.1"
   ]
  },
  {
   "cell_type": "markdown",
   "id": "54c25691-c6d2-4bc5-9ae9-b3adadb002ce",
   "metadata": {},
   "source": [
    "# for simplicity, I will be using integer only"
   ]
  },
  {
   "cell_type": "code",
   "execution_count": 30,
   "id": "3b39b399-fe51-4fb2-ad16-024645a568c0",
   "metadata": {},
   "outputs": [],
   "source": [
    "population = [(random.randint(-100, 100), random.randint(-100, 100), random.randint(-100, 100)) for _ in range(population_size)]"
   ]
  },
  {
   "cell_type": "code",
   "execution_count": 31,
   "id": "62d5e005-92f5-4755-acd8-47217b87bf31",
   "metadata": {},
   "outputs": [
    {
     "data": {
      "text/plain": [
       "[(2, 60, -16),\n",
       " (-58, 25, -4),\n",
       " (-7, 97, 63),\n",
       " (77, -60, 52),\n",
       " (-21, 11, -13),\n",
       " (93, -18, 17),\n",
       " (93, 87, 73),\n",
       " (-24, -45, -38),\n",
       " (41, -81, 86),\n",
       " (69, -76, 62),\n",
       " (-47, -73, 66),\n",
       " (39, -76, 26),\n",
       " (5, -81, -38),\n",
       " (-27, 0, -54),\n",
       " (-75, -33, 62),\n",
       " (-90, -77, 19),\n",
       " (56, -87, -21),\n",
       " (-77, -13, -5),\n",
       " (-47, -2, -23),\n",
       " (34, -92, -63),\n",
       " (12, 27, 44),\n",
       " (-77, -2, -57),\n",
       " (-67, 39, 54),\n",
       " (-44, 60, -83),\n",
       " (-43, -26, -74),\n",
       " (-68, 3, -25),\n",
       " (-71, 31, -65),\n",
       " (9, 29, 60),\n",
       " (46, 29, 61),\n",
       " (33, 61, 13),\n",
       " (69, -78, -55),\n",
       " (43, -98, -84),\n",
       " (10, -13, 30),\n",
       " (-73, -78, 75),\n",
       " (-57, -23, 42),\n",
       " (27, -45, -19),\n",
       " (65, -18, -7),\n",
       " (7, -90, 54),\n",
       " (-70, -91, -57),\n",
       " (15, 73, 48),\n",
       " (-57, -14, -5),\n",
       " (-48, 32, 59),\n",
       " (31, -68, -62),\n",
       " (-13, 38, 9),\n",
       " (45, -86, 33),\n",
       " (-97, 2, -3),\n",
       " (-24, -86, -44),\n",
       " (-88, 29, -3),\n",
       " (38, 76, -60),\n",
       " (-78, 49, -40)]"
      ]
     },
     "execution_count": 31,
     "metadata": {},
     "output_type": "execute_result"
    }
   ],
   "source": [
    "population"
   ]
  },
  {
   "cell_type": "code",
   "execution_count": 32,
   "id": "c17f27e6-e589-419e-a6c1-de4e58e2fd2f",
   "metadata": {},
   "outputs": [],
   "source": [
    "fitness_scores = [fitness(w1, w2, w3) for (w1, w2, w3) in population]"
   ]
  },
  {
   "cell_type": "code",
   "execution_count": 33,
   "id": "c0bbc817-e492-44c0-aa01-c1e22d0330f7",
   "metadata": {},
   "outputs": [],
   "source": [
    "# using 20% probability\n",
    "num_parents = int(50*0.2)\n",
    "parents = [population[i] for i in sorted(range(len(fitness_scores)), key=lambda i: fitness_scores[i], reverse=True)[:num_parents]]"
   ]
  },
  {
   "cell_type": "code",
   "execution_count": 34,
   "id": "e9703e0b-849f-43bd-8b8d-3cbd2e291e21",
   "metadata": {},
   "outputs": [
    {
     "data": {
      "text/plain": [
       "[(41, -81, 86),\n",
       " (69, -76, 62),\n",
       " (77, -60, 52),\n",
       " (93, 87, 73),\n",
       " (7, -90, 54),\n",
       " (45, -86, 33),\n",
       " (46, 29, 61),\n",
       " (93, -18, 17),\n",
       " (39, -76, 26),\n",
       " (-47, -73, 66)]"
      ]
     },
     "execution_count": 34,
     "metadata": {},
     "output_type": "execute_result"
    }
   ],
   "source": [
    "parents"
   ]
  },
  {
   "cell_type": "code",
   "execution_count": 44,
   "id": "7c662afa-b99e-4559-bf9f-0dee40b6cf92",
   "metadata": {},
   "outputs": [],
   "source": [
    "parent1, parent2 = random.choices(parents, k=2)\n",
    "child = tuple(parent1[0], parent2[1], parent2[2])\n",
    "print()\n",
    "prin\n",
    "child"
   ]
  },
  {
   "cell_type": "code",
   "execution_count": 46,
   "id": "bd6028e9-228a-42a0-be4e-e864bc3709c8",
   "metadata": {},
   "outputs": [
    {
     "data": {
      "text/plain": [
       "((93, -18, 17), (39, -76, 26), 93)"
      ]
     },
     "execution_count": 46,
     "metadata": {},
     "output_type": "execute_result"
    }
   ],
   "source": [
    "parent1, parent2, parent1[0]"
   ]
  },
  {
   "cell_type": "code",
   "execution_count": 26,
   "id": "2ed0cf8d-eead-43ad-a5a3-cf1a19118ea3",
   "metadata": {},
   "outputs": [],
   "source": [
    "# single point cross over\n",
    "offspring = []\n",
    "    for _ in range(population_size - num_parents):\n",
    "        parent1, parent2 = random.choices(parents, k=2)\n",
    "        child = tuple((p1 + p2) / 2 for p1, p2 in zip(parent1, parent2))\n",
    "        offspring.append(child)"
   ]
  },
  {
   "cell_type": "code",
   "execution_count": 28,
   "id": "215d0c46-ba32-46aa-ac76-76047604f366",
   "metadata": {},
   "outputs": [
    {
     "data": {
      "text/plain": [
       "[(-15.0, -10.5, 87.0),\n",
       " (-15.0, -10.5, 87.0),\n",
       " (-15.0, -10.5, 87.0),\n",
       " (-15.0, -10.5, 87.0),\n",
       " (-15.0, -10.5, 87.0),\n",
       " (-15.0, -10.5, 87.0),\n",
       " (-8.0, -56.0, 77.0),\n",
       " (-22.0, 35.0, 97.0)]"
      ]
     },
     "execution_count": 28,
     "metadata": {},
     "output_type": "execute_result"
    }
   ],
   "source": [
    "offspring"
   ]
  },
  {
   "cell_type": "code",
   "execution_count": 8,
   "id": "01719435-ff53-4a08-8a56-2d8571739466",
   "metadata": {},
   "outputs": [],
   "source": [
    "for generation in range(num_generations):\n",
    "    \n",
    "    fitness_scores = [fitness(w1, w2, w3) for (w1, w2, w3) in population]\n",
    "\n",
    "    # selection\n",
    "    num_parents = 10\n",
    "    parents = [population[i] for i in sorted(range(len(fitness_scores)), key=lambda i: fitness_scores[i], reverse=True)[:num_parents]]\n",
    "\n",
    "    # Create offspring through crossover (average of parents' weights)\n",
    "    offspring = []\n",
    "    for _ in range(population_size - num_parents):\n",
    "        parent1, parent2 = random.choices(parents, k=2)\n",
    "        child = tuple((p1 + p2) / 2 for p1, p2 in zip(parent1, parent2))\n",
    "        offspring.append(child)\n",
    "\n",
    "    # Apply mutation\n",
    "    for i in range(len(offspring)):\n",
    "        if random.random() < mutation_rate:\n",
    "            offspring[i] = tuple(w + random.uniform(-1, 1) for w in offspring[i])\n",
    "\n",
    "    # Replace the old population with the new population\n",
    "    population = parents + offspring"
   ]
  },
  {
   "cell_type": "code",
   "execution_count": 9,
   "id": "2b69fe40-cc61-4082-a7ae-544db6d28585",
   "metadata": {},
   "outputs": [
    {
     "name": "stdout",
     "output_type": "stream",
     "text": [
      "Best Solution: w1=15.966642586290316, w2=-13.404787394858532, w3=32.87234133217534\n",
      "Best Fitness: 320.7825344601057\n"
     ]
    }
   ],
   "source": [
    "# Find the best solution\n",
    "best_solution = max(population, key=lambda x: fitness(x[0], x[1], x[2]))\n",
    "best_fitness = fitness(best_solution[0], best_solution[1], best_solution[2])\n",
    "\n",
    "print(f\"Best Solution: w1={best_solution[0]}, w2={best_solution[1]}, w3={best_solution[2]}\")\n",
    "print(f\"Best Fitness: {best_fitness}\")\n"
   ]
  }
 ],
 "metadata": {
  "kernelspec": {
   "display_name": "Python 3 (ipykernel)",
   "language": "python",
   "name": "python3"
  },
  "language_info": {
   "codemirror_mode": {
    "name": "ipython",
    "version": 3
   },
   "file_extension": ".py",
   "mimetype": "text/x-python",
   "name": "python",
   "nbconvert_exporter": "python",
   "pygments_lexer": "ipython3",
   "version": "3.10.8"
  }
 },
 "nbformat": 4,
 "nbformat_minor": 5
}
